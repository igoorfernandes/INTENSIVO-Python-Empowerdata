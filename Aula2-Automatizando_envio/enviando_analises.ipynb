{
 "cells": [
  {
   "cell_type": "markdown",
   "id": "0977e7b0",
   "metadata": {},
   "source": [
    "# Importando a Biblioteca"
   ]
  },
  {
   "cell_type": "code",
   "execution_count": 1,
   "id": "b2e2484a",
   "metadata": {
    "tags": []
   },
   "outputs": [],
   "source": [
    "import yfinance"
   ]
  },
  {
   "cell_type": "markdown",
   "id": "60bd1d6f",
   "metadata": {},
   "source": [
    "# Buscando a cotação de uma Ação"
   ]
  },
  {
   "cell_type": "code",
   "execution_count": 2,
   "id": "c0e6b38c",
   "metadata": {
    "tags": []
   },
   "outputs": [
    {
     "name": "stdin",
     "output_type": "stream",
     "text": [
      "Digite o ticker da ação desejada:  RAIZ4.SA\n"
     ]
    }
   ],
   "source": [
    "ticker = input(\"Digite o ticker da ação desejada: \")\n",
    "dados = yfinance.Ticker(ticker)"
   ]
  },
  {
   "cell_type": "code",
   "execution_count": 3,
   "id": "01fb9361",
   "metadata": {
    "tags": []
   },
   "outputs": [
    {
     "data": {
      "text/html": [
       "<div>\n",
       "<style scoped>\n",
       "    .dataframe tbody tr th:only-of-type {\n",
       "        vertical-align: middle;\n",
       "    }\n",
       "\n",
       "    .dataframe tbody tr th {\n",
       "        vertical-align: top;\n",
       "    }\n",
       "\n",
       "    .dataframe thead th {\n",
       "        text-align: right;\n",
       "    }\n",
       "</style>\n",
       "<table border=\"1\" class=\"dataframe\">\n",
       "  <thead>\n",
       "    <tr style=\"text-align: right;\">\n",
       "      <th></th>\n",
       "      <th>Open</th>\n",
       "      <th>High</th>\n",
       "      <th>Low</th>\n",
       "      <th>Close</th>\n",
       "      <th>Volume</th>\n",
       "      <th>Dividends</th>\n",
       "      <th>Stock Splits</th>\n",
       "    </tr>\n",
       "    <tr>\n",
       "      <th>Date</th>\n",
       "      <th></th>\n",
       "      <th></th>\n",
       "      <th></th>\n",
       "      <th></th>\n",
       "      <th></th>\n",
       "      <th></th>\n",
       "      <th></th>\n",
       "    </tr>\n",
       "  </thead>\n",
       "  <tbody>\n",
       "    <tr>\n",
       "      <th>2023-02-09 00:00:00-03:00</th>\n",
       "      <td>3.30</td>\n",
       "      <td>3.36</td>\n",
       "      <td>3.19</td>\n",
       "      <td>3.28</td>\n",
       "      <td>43678900</td>\n",
       "      <td>0.0</td>\n",
       "      <td>0.0</td>\n",
       "    </tr>\n",
       "    <tr>\n",
       "      <th>2023-02-10 00:00:00-03:00</th>\n",
       "      <td>3.28</td>\n",
       "      <td>3.31</td>\n",
       "      <td>3.18</td>\n",
       "      <td>3.21</td>\n",
       "      <td>23226200</td>\n",
       "      <td>0.0</td>\n",
       "      <td>0.0</td>\n",
       "    </tr>\n",
       "    <tr>\n",
       "      <th>2023-02-13 00:00:00-03:00</th>\n",
       "      <td>3.21</td>\n",
       "      <td>3.22</td>\n",
       "      <td>3.13</td>\n",
       "      <td>3.22</td>\n",
       "      <td>14875700</td>\n",
       "      <td>0.0</td>\n",
       "      <td>0.0</td>\n",
       "    </tr>\n",
       "    <tr>\n",
       "      <th>2023-02-14 00:00:00-03:00</th>\n",
       "      <td>3.21</td>\n",
       "      <td>3.21</td>\n",
       "      <td>2.96</td>\n",
       "      <td>2.98</td>\n",
       "      <td>40924300</td>\n",
       "      <td>0.0</td>\n",
       "      <td>0.0</td>\n",
       "    </tr>\n",
       "    <tr>\n",
       "      <th>2023-02-15 00:00:00-03:00</th>\n",
       "      <td>2.97</td>\n",
       "      <td>3.10</td>\n",
       "      <td>2.86</td>\n",
       "      <td>3.09</td>\n",
       "      <td>42760100</td>\n",
       "      <td>0.0</td>\n",
       "      <td>0.0</td>\n",
       "    </tr>\n",
       "    <tr>\n",
       "      <th>2023-02-16 00:00:00-03:00</th>\n",
       "      <td>3.07</td>\n",
       "      <td>3.12</td>\n",
       "      <td>3.00</td>\n",
       "      <td>3.08</td>\n",
       "      <td>21149000</td>\n",
       "      <td>0.0</td>\n",
       "      <td>0.0</td>\n",
       "    </tr>\n",
       "    <tr>\n",
       "      <th>2023-02-17 00:00:00-03:00</th>\n",
       "      <td>3.07</td>\n",
       "      <td>3.12</td>\n",
       "      <td>3.01</td>\n",
       "      <td>3.03</td>\n",
       "      <td>27974700</td>\n",
       "      <td>0.0</td>\n",
       "      <td>0.0</td>\n",
       "    </tr>\n",
       "    <tr>\n",
       "      <th>2023-02-22 00:00:00-03:00</th>\n",
       "      <td>3.01</td>\n",
       "      <td>3.09</td>\n",
       "      <td>2.95</td>\n",
       "      <td>3.08</td>\n",
       "      <td>20601900</td>\n",
       "      <td>0.0</td>\n",
       "      <td>0.0</td>\n",
       "    </tr>\n",
       "    <tr>\n",
       "      <th>2023-02-23 00:00:00-03:00</th>\n",
       "      <td>3.10</td>\n",
       "      <td>3.15</td>\n",
       "      <td>2.99</td>\n",
       "      <td>3.04</td>\n",
       "      <td>24919500</td>\n",
       "      <td>0.0</td>\n",
       "      <td>0.0</td>\n",
       "    </tr>\n",
       "    <tr>\n",
       "      <th>2023-02-24 00:00:00-03:00</th>\n",
       "      <td>3.04</td>\n",
       "      <td>3.05</td>\n",
       "      <td>2.88</td>\n",
       "      <td>2.89</td>\n",
       "      <td>27929600</td>\n",
       "      <td>0.0</td>\n",
       "      <td>0.0</td>\n",
       "    </tr>\n",
       "    <tr>\n",
       "      <th>2023-02-27 00:00:00-03:00</th>\n",
       "      <td>2.91</td>\n",
       "      <td>3.08</td>\n",
       "      <td>2.87</td>\n",
       "      <td>3.04</td>\n",
       "      <td>32246200</td>\n",
       "      <td>0.0</td>\n",
       "      <td>0.0</td>\n",
       "    </tr>\n",
       "    <tr>\n",
       "      <th>2023-02-28 00:00:00-03:00</th>\n",
       "      <td>3.07</td>\n",
       "      <td>3.14</td>\n",
       "      <td>3.04</td>\n",
       "      <td>3.08</td>\n",
       "      <td>28842300</td>\n",
       "      <td>0.0</td>\n",
       "      <td>0.0</td>\n",
       "    </tr>\n",
       "    <tr>\n",
       "      <th>2023-03-01 00:00:00-03:00</th>\n",
       "      <td>3.09</td>\n",
       "      <td>3.17</td>\n",
       "      <td>2.99</td>\n",
       "      <td>3.02</td>\n",
       "      <td>32788900</td>\n",
       "      <td>0.0</td>\n",
       "      <td>0.0</td>\n",
       "    </tr>\n",
       "    <tr>\n",
       "      <th>2023-03-02 00:00:00-03:00</th>\n",
       "      <td>3.02</td>\n",
       "      <td>3.04</td>\n",
       "      <td>2.92</td>\n",
       "      <td>2.92</td>\n",
       "      <td>21864000</td>\n",
       "      <td>0.0</td>\n",
       "      <td>0.0</td>\n",
       "    </tr>\n",
       "    <tr>\n",
       "      <th>2023-03-03 00:00:00-03:00</th>\n",
       "      <td>2.95</td>\n",
       "      <td>2.95</td>\n",
       "      <td>2.78</td>\n",
       "      <td>2.83</td>\n",
       "      <td>36019100</td>\n",
       "      <td>0.0</td>\n",
       "      <td>0.0</td>\n",
       "    </tr>\n",
       "    <tr>\n",
       "      <th>2023-03-06 00:00:00-03:00</th>\n",
       "      <td>2.87</td>\n",
       "      <td>2.95</td>\n",
       "      <td>2.80</td>\n",
       "      <td>2.91</td>\n",
       "      <td>24268000</td>\n",
       "      <td>0.0</td>\n",
       "      <td>0.0</td>\n",
       "    </tr>\n",
       "    <tr>\n",
       "      <th>2023-03-07 00:00:00-03:00</th>\n",
       "      <td>2.91</td>\n",
       "      <td>2.93</td>\n",
       "      <td>2.85</td>\n",
       "      <td>2.91</td>\n",
       "      <td>12209500</td>\n",
       "      <td>0.0</td>\n",
       "      <td>0.0</td>\n",
       "    </tr>\n",
       "    <tr>\n",
       "      <th>2023-03-08 00:00:00-03:00</th>\n",
       "      <td>2.91</td>\n",
       "      <td>2.97</td>\n",
       "      <td>2.89</td>\n",
       "      <td>2.94</td>\n",
       "      <td>21816400</td>\n",
       "      <td>0.0</td>\n",
       "      <td>0.0</td>\n",
       "    </tr>\n",
       "    <tr>\n",
       "      <th>2023-03-09 00:00:00-03:00</th>\n",
       "      <td>2.92</td>\n",
       "      <td>2.94</td>\n",
       "      <td>2.78</td>\n",
       "      <td>2.80</td>\n",
       "      <td>41324600</td>\n",
       "      <td>0.0</td>\n",
       "      <td>0.0</td>\n",
       "    </tr>\n",
       "  </tbody>\n",
       "</table>\n",
       "</div>"
      ],
      "text/plain": [
       "                           Open  High   Low  Close    Volume  Dividends  \\\n",
       "Date                                                                      \n",
       "2023-02-09 00:00:00-03:00  3.30  3.36  3.19   3.28  43678900        0.0   \n",
       "2023-02-10 00:00:00-03:00  3.28  3.31  3.18   3.21  23226200        0.0   \n",
       "2023-02-13 00:00:00-03:00  3.21  3.22  3.13   3.22  14875700        0.0   \n",
       "2023-02-14 00:00:00-03:00  3.21  3.21  2.96   2.98  40924300        0.0   \n",
       "2023-02-15 00:00:00-03:00  2.97  3.10  2.86   3.09  42760100        0.0   \n",
       "2023-02-16 00:00:00-03:00  3.07  3.12  3.00   3.08  21149000        0.0   \n",
       "2023-02-17 00:00:00-03:00  3.07  3.12  3.01   3.03  27974700        0.0   \n",
       "2023-02-22 00:00:00-03:00  3.01  3.09  2.95   3.08  20601900        0.0   \n",
       "2023-02-23 00:00:00-03:00  3.10  3.15  2.99   3.04  24919500        0.0   \n",
       "2023-02-24 00:00:00-03:00  3.04  3.05  2.88   2.89  27929600        0.0   \n",
       "2023-02-27 00:00:00-03:00  2.91  3.08  2.87   3.04  32246200        0.0   \n",
       "2023-02-28 00:00:00-03:00  3.07  3.14  3.04   3.08  28842300        0.0   \n",
       "2023-03-01 00:00:00-03:00  3.09  3.17  2.99   3.02  32788900        0.0   \n",
       "2023-03-02 00:00:00-03:00  3.02  3.04  2.92   2.92  21864000        0.0   \n",
       "2023-03-03 00:00:00-03:00  2.95  2.95  2.78   2.83  36019100        0.0   \n",
       "2023-03-06 00:00:00-03:00  2.87  2.95  2.80   2.91  24268000        0.0   \n",
       "2023-03-07 00:00:00-03:00  2.91  2.93  2.85   2.91  12209500        0.0   \n",
       "2023-03-08 00:00:00-03:00  2.91  2.97  2.89   2.94  21816400        0.0   \n",
       "2023-03-09 00:00:00-03:00  2.92  2.94  2.78   2.80  41324600        0.0   \n",
       "\n",
       "                           Stock Splits  \n",
       "Date                                     \n",
       "2023-02-09 00:00:00-03:00           0.0  \n",
       "2023-02-10 00:00:00-03:00           0.0  \n",
       "2023-02-13 00:00:00-03:00           0.0  \n",
       "2023-02-14 00:00:00-03:00           0.0  \n",
       "2023-02-15 00:00:00-03:00           0.0  \n",
       "2023-02-16 00:00:00-03:00           0.0  \n",
       "2023-02-17 00:00:00-03:00           0.0  \n",
       "2023-02-22 00:00:00-03:00           0.0  \n",
       "2023-02-23 00:00:00-03:00           0.0  \n",
       "2023-02-24 00:00:00-03:00           0.0  \n",
       "2023-02-27 00:00:00-03:00           0.0  \n",
       "2023-02-28 00:00:00-03:00           0.0  \n",
       "2023-03-01 00:00:00-03:00           0.0  \n",
       "2023-03-02 00:00:00-03:00           0.0  \n",
       "2023-03-03 00:00:00-03:00           0.0  \n",
       "2023-03-06 00:00:00-03:00           0.0  \n",
       "2023-03-07 00:00:00-03:00           0.0  \n",
       "2023-03-08 00:00:00-03:00           0.0  \n",
       "2023-03-09 00:00:00-03:00           0.0  "
      ]
     },
     "execution_count": 3,
     "metadata": {},
     "output_type": "execute_result"
    }
   ],
   "source": [
    "dados.history()"
   ]
  },
  {
   "cell_type": "code",
   "execution_count": 4,
   "id": "7a4ee2d5",
   "metadata": {
    "tags": []
   },
   "outputs": [
    {
     "data": {
      "text/html": [
       "<div>\n",
       "<style scoped>\n",
       "    .dataframe tbody tr th:only-of-type {\n",
       "        vertical-align: middle;\n",
       "    }\n",
       "\n",
       "    .dataframe tbody tr th {\n",
       "        vertical-align: top;\n",
       "    }\n",
       "\n",
       "    .dataframe thead th {\n",
       "        text-align: right;\n",
       "    }\n",
       "</style>\n",
       "<table border=\"1\" class=\"dataframe\">\n",
       "  <thead>\n",
       "    <tr style=\"text-align: right;\">\n",
       "      <th></th>\n",
       "      <th>Open</th>\n",
       "      <th>High</th>\n",
       "      <th>Low</th>\n",
       "      <th>Close</th>\n",
       "      <th>Volume</th>\n",
       "      <th>Dividends</th>\n",
       "      <th>Stock Splits</th>\n",
       "    </tr>\n",
       "    <tr>\n",
       "      <th>Date</th>\n",
       "      <th></th>\n",
       "      <th></th>\n",
       "      <th></th>\n",
       "      <th></th>\n",
       "      <th></th>\n",
       "      <th></th>\n",
       "      <th></th>\n",
       "    </tr>\n",
       "  </thead>\n",
       "  <tbody>\n",
       "    <tr>\n",
       "      <th>2022-09-09 00:00:00-03:00</th>\n",
       "      <td>4.287846</td>\n",
       "      <td>4.394316</td>\n",
       "      <td>4.220092</td>\n",
       "      <td>4.249129</td>\n",
       "      <td>15548300</td>\n",
       "      <td>0.0</td>\n",
       "      <td>0.0</td>\n",
       "    </tr>\n",
       "    <tr>\n",
       "      <th>2022-09-12 00:00:00-03:00</th>\n",
       "      <td>4.297525</td>\n",
       "      <td>4.336241</td>\n",
       "      <td>4.171696</td>\n",
       "      <td>4.191054</td>\n",
       "      <td>15738600</td>\n",
       "      <td>0.0</td>\n",
       "      <td>0.0</td>\n",
       "    </tr>\n",
       "    <tr>\n",
       "      <th>2022-09-13 00:00:00-03:00</th>\n",
       "      <td>4.210412</td>\n",
       "      <td>4.220092</td>\n",
       "      <td>3.997472</td>\n",
       "      <td>4.016830</td>\n",
       "      <td>21443000</td>\n",
       "      <td>0.0</td>\n",
       "      <td>0.0</td>\n",
       "    </tr>\n",
       "    <tr>\n",
       "      <th>2022-09-14 00:00:00-03:00</th>\n",
       "      <td>4.026509</td>\n",
       "      <td>4.152338</td>\n",
       "      <td>3.997472</td>\n",
       "      <td>4.065226</td>\n",
       "      <td>13539100</td>\n",
       "      <td>0.0</td>\n",
       "      <td>0.0</td>\n",
       "    </tr>\n",
       "    <tr>\n",
       "      <th>2022-09-15 00:00:00-03:00</th>\n",
       "      <td>4.065226</td>\n",
       "      <td>4.084584</td>\n",
       "      <td>3.949076</td>\n",
       "      <td>4.074905</td>\n",
       "      <td>12717200</td>\n",
       "      <td>0.0</td>\n",
       "      <td>0.0</td>\n",
       "    </tr>\n",
       "    <tr>\n",
       "      <th>...</th>\n",
       "      <td>...</td>\n",
       "      <td>...</td>\n",
       "      <td>...</td>\n",
       "      <td>...</td>\n",
       "      <td>...</td>\n",
       "      <td>...</td>\n",
       "      <td>...</td>\n",
       "    </tr>\n",
       "    <tr>\n",
       "      <th>2023-03-03 00:00:00-03:00</th>\n",
       "      <td>2.950000</td>\n",
       "      <td>2.950000</td>\n",
       "      <td>2.780000</td>\n",
       "      <td>2.830000</td>\n",
       "      <td>36019100</td>\n",
       "      <td>0.0</td>\n",
       "      <td>0.0</td>\n",
       "    </tr>\n",
       "    <tr>\n",
       "      <th>2023-03-06 00:00:00-03:00</th>\n",
       "      <td>2.870000</td>\n",
       "      <td>2.950000</td>\n",
       "      <td>2.800000</td>\n",
       "      <td>2.910000</td>\n",
       "      <td>24268000</td>\n",
       "      <td>0.0</td>\n",
       "      <td>0.0</td>\n",
       "    </tr>\n",
       "    <tr>\n",
       "      <th>2023-03-07 00:00:00-03:00</th>\n",
       "      <td>2.910000</td>\n",
       "      <td>2.930000</td>\n",
       "      <td>2.850000</td>\n",
       "      <td>2.910000</td>\n",
       "      <td>12209500</td>\n",
       "      <td>0.0</td>\n",
       "      <td>0.0</td>\n",
       "    </tr>\n",
       "    <tr>\n",
       "      <th>2023-03-08 00:00:00-03:00</th>\n",
       "      <td>2.910000</td>\n",
       "      <td>2.970000</td>\n",
       "      <td>2.890000</td>\n",
       "      <td>2.940000</td>\n",
       "      <td>21816400</td>\n",
       "      <td>0.0</td>\n",
       "      <td>0.0</td>\n",
       "    </tr>\n",
       "    <tr>\n",
       "      <th>2023-03-09 00:00:00-03:00</th>\n",
       "      <td>2.920000</td>\n",
       "      <td>2.940000</td>\n",
       "      <td>2.780000</td>\n",
       "      <td>2.800000</td>\n",
       "      <td>41324600</td>\n",
       "      <td>0.0</td>\n",
       "      <td>0.0</td>\n",
       "    </tr>\n",
       "  </tbody>\n",
       "</table>\n",
       "<p>124 rows × 7 columns</p>\n",
       "</div>"
      ],
      "text/plain": [
       "                               Open      High       Low     Close    Volume  \\\n",
       "Date                                                                          \n",
       "2022-09-09 00:00:00-03:00  4.287846  4.394316  4.220092  4.249129  15548300   \n",
       "2022-09-12 00:00:00-03:00  4.297525  4.336241  4.171696  4.191054  15738600   \n",
       "2022-09-13 00:00:00-03:00  4.210412  4.220092  3.997472  4.016830  21443000   \n",
       "2022-09-14 00:00:00-03:00  4.026509  4.152338  3.997472  4.065226  13539100   \n",
       "2022-09-15 00:00:00-03:00  4.065226  4.084584  3.949076  4.074905  12717200   \n",
       "...                             ...       ...       ...       ...       ...   \n",
       "2023-03-03 00:00:00-03:00  2.950000  2.950000  2.780000  2.830000  36019100   \n",
       "2023-03-06 00:00:00-03:00  2.870000  2.950000  2.800000  2.910000  24268000   \n",
       "2023-03-07 00:00:00-03:00  2.910000  2.930000  2.850000  2.910000  12209500   \n",
       "2023-03-08 00:00:00-03:00  2.910000  2.970000  2.890000  2.940000  21816400   \n",
       "2023-03-09 00:00:00-03:00  2.920000  2.940000  2.780000  2.800000  41324600   \n",
       "\n",
       "                           Dividends  Stock Splits  \n",
       "Date                                                \n",
       "2022-09-09 00:00:00-03:00        0.0           0.0  \n",
       "2022-09-12 00:00:00-03:00        0.0           0.0  \n",
       "2022-09-13 00:00:00-03:00        0.0           0.0  \n",
       "2022-09-14 00:00:00-03:00        0.0           0.0  \n",
       "2022-09-15 00:00:00-03:00        0.0           0.0  \n",
       "...                              ...           ...  \n",
       "2023-03-03 00:00:00-03:00        0.0           0.0  \n",
       "2023-03-06 00:00:00-03:00        0.0           0.0  \n",
       "2023-03-07 00:00:00-03:00        0.0           0.0  \n",
       "2023-03-08 00:00:00-03:00        0.0           0.0  \n",
       "2023-03-09 00:00:00-03:00        0.0           0.0  \n",
       "\n",
       "[124 rows x 7 columns]"
      ]
     },
     "execution_count": 4,
     "metadata": {},
     "output_type": "execute_result"
    }
   ],
   "source": [
    "tabela = dados.history(\"6mo\")\n",
    "tabela"
   ]
  },
  {
   "cell_type": "code",
   "execution_count": 5,
   "id": "b8fe9421",
   "metadata": {
    "tags": []
   },
   "outputs": [
    {
     "data": {
      "text/plain": [
       "Date\n",
       "2022-09-09 00:00:00-03:00    4.249129\n",
       "2022-09-12 00:00:00-03:00    4.191054\n",
       "2022-09-13 00:00:00-03:00    4.016830\n",
       "2022-09-14 00:00:00-03:00    4.065226\n",
       "2022-09-15 00:00:00-03:00    4.074905\n",
       "                               ...   \n",
       "2023-03-03 00:00:00-03:00    2.830000\n",
       "2023-03-06 00:00:00-03:00    2.910000\n",
       "2023-03-07 00:00:00-03:00    2.910000\n",
       "2023-03-08 00:00:00-03:00    2.940000\n",
       "2023-03-09 00:00:00-03:00    2.800000\n",
       "Name: Close, Length: 124, dtype: float64"
      ]
     },
     "execution_count": 5,
     "metadata": {},
     "output_type": "execute_result"
    }
   ],
   "source": [
    "fechamento = tabela.Close\n",
    "fechamento"
   ]
  },
  {
   "cell_type": "markdown",
   "id": "e025ae22",
   "metadata": {},
   "source": [
    "# Gerando gráfico de linha "
   ]
  },
  {
   "cell_type": "code",
   "execution_count": 6,
   "id": "0d82451c",
   "metadata": {
    "tags": []
   },
   "outputs": [
    {
     "data": {
      "text/plain": [
       "<Axes: xlabel='Date'>"
      ]
     },
     "execution_count": 6,
     "metadata": {},
     "output_type": "execute_result"
    },
    {
     "data": {
      "image/png": "[encoded data removed]",
      "text/plain": [
       "<Figure size 640x480 with 1 Axes>"
      ]
     },
     "metadata": {},
     "output_type": "display_data"
    }
   ],
   "source": [
    "fechamento.plot()"
   ]
  },
  {
   "cell_type": "markdown",
   "id": "7538ce0e",
   "metadata": {},
   "source": [
    "## Gerando estastística"
   ]
  },
  {
   "cell_type": "code",
   "execution_count": 7,
   "id": "3108df2b",
   "metadata": {
    "tags": []
   },
   "outputs": [
    {
     "data": {
      "text/plain": [
       "4.603250503540039"
      ]
     },
     "execution_count": 7,
     "metadata": {},
     "output_type": "execute_result"
    }
   ],
   "source": [
    "cotacao_maxima = fechamento.max()\n",
    "cotacao_maxima"
   ]
  },
  {
   "cell_type": "code",
   "execution_count": 8,
   "id": "5064412a",
   "metadata": {
    "tags": []
   },
   "outputs": [
    {
     "data": {
      "text/plain": [
       "2.799999952316284"
      ]
     },
     "execution_count": 8,
     "metadata": {},
     "output_type": "execute_result"
    }
   ],
   "source": [
    "cotacao_minima = fechamento.min()\n",
    "cotacao_minima"
   ]
  },
  {
   "cell_type": "code",
   "execution_count": 9,
   "id": "e984fefe",
   "metadata": {
    "tags": []
   },
   "outputs": [
    {
     "data": {
      "text/plain": [
       "2.799999952316284"
      ]
     },
     "execution_count": 9,
     "metadata": {},
     "output_type": "execute_result"
    }
   ],
   "source": [
    "cotacao_atual = fechamento[-1]\n",
    "cotacao_atual"
   ]
  },
  {
   "cell_type": "markdown",
   "id": "5cffba58",
   "metadata": {},
   "source": [
    "# Importando Bibliotecas"
   ]
  },
  {
   "cell_type": "code",
   "execution_count": 10,
   "id": "613a7dc8",
   "metadata": {
    "tags": []
   },
   "outputs": [],
   "source": [
    "import pyautogui as pt\n",
    "import pyperclip as pc\n",
    "import time"
   ]
  },
  {
   "cell_type": "code",
   "execution_count": 11,
   "id": "23b3281f",
   "metadata": {
    "tags": []
   },
   "outputs": [],
   "source": [
    "destinatario = \"riiguh2@gmail.com\"\n",
    "assunto = \"Análise de ações\"\n",
    "\n",
    "mensagem = f\"\"\"\n",
    "Bom dia,\n",
    "\n",
    "Segue abaixo as analises da ação ({ticker}) dos ultimos 6 meses:\n",
    "\n",
    "Cotação Máxima: R${round(cotacao_maxima, 2)}.\n",
    "Cotação Mínima: R${round(cotacao_minima, 2)}.\n",
    "Cotação Atual:  R${round(cotacao_atual,2)}.\n",
    "\n",
    "Atenciosamente,\n",
    "Igor.\n",
    "\n",
    "\"\"\""
   ]
  },
  {
   "cell_type": "code",
   "execution_count": 12,
   "id": "70eb61bc",
   "metadata": {
    "tags": []
   },
   "outputs": [
    {
     "name": "stdout",
     "output_type": "stream",
     "text": [
      "riiguh2@gmail.com\n",
      "Análise de ações\n",
      "\n",
      "Bom dia,\n",
      "\n",
      "Segue abaixo as analises da ação (RAIZ4.SA) dos ultimos 6 meses:\n",
      "\n",
      "Cotação Máxima: R$4.6.\n",
      "Cotação Mínima: R$2.8.\n",
      "Cotação Atual:  R$2.8.\n",
      "\n",
      "Atenciosamente,\n",
      "Igor.\n",
      "\n",
      "\n"
     ]
    }
   ],
   "source": [
    "print(destinatario)\n",
    "print(assunto)\n",
    "print(mensagem)"
   ]
  },
  {
   "cell_type": "markdown",
   "id": "c776cc4f",
   "metadata": {},
   "source": [
    "# Automatizando o envio"
   ]
  },
  {
   "cell_type": "code",
   "execution_count": 19,
   "id": "848960aa",
   "metadata": {
    "tags": []
   },
   "outputs": [],
   "source": [
    "# configurar uma pausa entre as ações do pyautogui\n",
    "pt.PAUSE = 5\n",
    "\n",
    "# comando para abrir o navegador \n",
    "pt.click(x=2528, y=701)\n",
    "\n",
    "# copia o endereço de e-mail para o clipboard\n",
    "pc.copy(\"gmail.com\")\n",
    "\n",
    "# cola o endereço do gmail e da ENTER\n",
    "pt.hotkey(\"ctrl\", \"v\")\n",
    "pt.hotkey(\"enter\")\n",
    "\n",
    "# para clicar no botão escrever\n",
    "pt.click(x=84, y=167)\n",
    "\n",
    "# preenchendo o destinatario\n",
    "pc.copy(destinatario)\n",
    "pt.hotkey(\"ctrl\", \"v\")\n",
    "pt.hotkey(\"tab\")\n",
    "\n",
    "# preenchendo assunto\n",
    "pc.copy(assunto)\n",
    "pt.hotkey(\"ctrl\", \"v\")\n",
    "pt.hotkey(\"tab\")\n",
    "\n",
    "# preenchendo mensagem e enviando\n",
    "pc.copy(mensagem)\n",
    "pt.hotkey(\"ctrl\", \"v\")\n",
    "pt.hotkey(\"ctrl\", \"enter\")\n",
    "\n",
    "# fechar a aba gmail\n",
    "pt.hotkey(\"crtl\", \"f4\")\n",
    "\n",
    "\n",
    "\n",
    "\n"
   ]
  },
  {
   "cell_type": "markdown",
   "id": "d3d36ddb",
   "metadata": {},
   "source": [
    "# Código para descobrir as cordenadas do cursor"
   ]
  },
  {
   "cell_type": "code",
   "execution_count": 18,
   "id": "7236692f",
   "metadata": {
    "tags": []
   },
   "outputs": [
    {
     "data": {
      "text/plain": [
       "Point(x=2528, y=701)"
      ]
     },
     "execution_count": 18,
     "metadata": {},
     "output_type": "execute_result"
    }
   ],
   "source": [
    "time.sleep(3)\n",
    "pt.position()\n"
   ]
  },
  {
   "cell_type": "code",
   "execution_count": null,
   "id": "d7d0c28d",
   "metadata": {},
   "outputs": [],
   "source": []
  },
  {
   "cell_type": "code",
   "execution_count": null,
   "id": "b49a4ced",
   "metadata": {},
   "outputs": [],
   "source": []
  },
  {
   "cell_type": "code",
   "execution_count": null,
   "id": "646eb6c3",
   "metadata": {},
   "outputs": [],
   "source": []
  },
  {
   "cell_type": "code",
   "execution_count": null,
   "id": "5a3777de",
   "metadata": {},
   "outputs": [],
   "source": []
  },
  {
   "cell_type": "code",
   "execution_count": null,
   "id": "9bdbe2af",
   "metadata": {},
   "outputs": [],
   "source": []
  },
  {
   "cell_type": "code",
   "execution_count": null,
   "id": "7fcb2400",
   "metadata": {},
   "outputs": [],
   "source": []
  },
  {
   "cell_type": "code",
   "execution_count": null,
   "id": "326750f3",
   "metadata": {},
   "outputs": [],
   "source": []
  },
  {
   "cell_type": "code",
   "execution_count": null,
   "id": "042fc300",
   "metadata": {},
   "outputs": [],
   "source": []
  }
 ],
 "metadata": {
  "kernelspec": {
   "display_name": "Python 3 (ipykernel)",
   "language": "python",
   "name": "python3"
  },
  "language_info": {
   "codemirror_mode": {
    "name": "ipython",
    "version": 3
   },
   "file_extension": ".py",
   "mimetype": "text/x-python",
   "name": "python",
   "nbconvert_exporter": "python",
   "pygments_lexer": "ipython3",
   "version": "3.9.13"
  }
 },
 "nbformat": 4,
 "nbformat_minor": 5
}
