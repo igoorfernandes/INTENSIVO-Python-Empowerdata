{
 "cells": [
  {
   "cell_type": "code",
   "execution_count": 6,
   "id": "ea0417a8-163c-43ed-b454-8eb3937e9677",
   "metadata": {},
   "outputs": [
    {
     "name": "stdout",
     "output_type": "stream",
     "text": [
      "Requirement already satisfied: fpdf in c:\\users\\igor\\anaconda3\\lib\\site-packages (1.7.2)\n"
     ]
    }
   ],
   "source": [
    "!pip install fpdf"
   ]
  },
  {
   "cell_type": "code",
   "execution_count": 1,
   "id": "9a3a4a2b-900c-4b9d-be76-8b060c699c17",
   "metadata": {
    "tags": []
   },
   "outputs": [
    {
     "name": "stdout",
     "output_type": "stream",
     "text": [
      "Descrição do Projeto: Desenvolvimento Python\n",
      "Horas estimadas: 320\n",
      "Valor da hora trabalhada: 100\n",
      "Prazo de entrega: 3 Meses\n"
     ]
    }
   ],
   "source": [
    "descricao = input(\"Descrição do Projeto: \")\n",
    "horas_estimadas = int(input(\"Horas estimadas: \"))\n",
    "valor_hora = float(input(\"Valor da hora trabalhada: \"))\n",
    "prazo = input(\"Prazo de entrega: \")"
   ]
  },
  {
   "cell_type": "code",
   "execution_count": 2,
   "id": "04460ae4-882a-49ec-81be-9a2a31de3686",
   "metadata": {
    "tags": []
   },
   "outputs": [
    {
     "name": "stdout",
     "output_type": "stream",
     "text": [
      "32000.0\n"
     ]
    }
   ],
   "source": [
    "valor_final = horas_estimadas * valor_hora\n",
    "print(valor_final)"
   ]
  },
  {
   "cell_type": "code",
   "execution_count": 7,
   "id": "c9724de0-ce1d-4e2e-900f-a03164852896",
   "metadata": {
    "tags": []
   },
   "outputs": [],
   "source": [
    "from fpdf import FPDF"
   ]
  },
  {
   "cell_type": "code",
   "execution_count": 8,
   "id": "426c1a2c-7abb-40bb-8aa5-3fc3270f7f92",
   "metadata": {
    "tags": []
   },
   "outputs": [
    {
     "name": "stdout",
     "output_type": "stream",
     "text": [
      "Orçamento Gerado!\n"
     ]
    }
   ],
   "source": [
    "pdf = FPDF()\n",
    "pdf.add_page()\n",
    "pdf.set_font(\"Arial\")\n",
    "\n",
    "pdf.image(\"template.png\", x=0, y=0)\n",
    "\n",
    "pdf.text(115, 145, descricao)\n",
    "pdf.text(115, 160, str(horas_estimadas))\n",
    "pdf.text(115, 175, str(valor_hora))\n",
    "pdf.text(115, 190, prazo)\n",
    "pdf.text(115, 205, str(valor_final))\n",
    "\n",
    "\n",
    "\n",
    "\n",
    "\n",
    "pdf.output(\"Orçamento Python\")\n",
    "print(\"Orçamento Gerado!\")"
   ]
  },
  {
   "cell_type": "code",
   "execution_count": null,
   "id": "1f609bbf",
   "metadata": {},
   "outputs": [],
   "source": []
  }
 ],
 "metadata": {
  "kernelspec": {
   "display_name": "Python 3 (ipykernel)",
   "language": "python",
   "name": "python3"
  },
  "language_info": {
   "codemirror_mode": {
    "name": "ipython",
    "version": 3
   },
   "file_extension": ".py",
   "mimetype": "text/x-python",
   "name": "python",
   "nbconvert_exporter": "python",
   "pygments_lexer": "ipython3",
   "version": "3.9.13"
  }
 },
 "nbformat": 4,
 "nbformat_minor": 5
}
