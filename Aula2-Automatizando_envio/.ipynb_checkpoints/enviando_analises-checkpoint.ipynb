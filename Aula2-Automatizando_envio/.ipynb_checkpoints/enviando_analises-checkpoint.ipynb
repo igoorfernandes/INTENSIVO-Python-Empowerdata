{
 "cells": [
  {
   "cell_type": "markdown",
   "id": "0977e7b0",
   "metadata": {},
   "source": [
    "# Importando a Biblioteca"
   ]
  },
  {
   "cell_type": "code",
   "execution_count": 23,
   "id": "b2e2484a",
   "metadata": {},
   "outputs": [],
   "source": [
    "import yfinance"
   ]
  },
  {
   "cell_type": "markdown",
   "id": "60bd1d6f",
   "metadata": {},
   "source": [
    "# Buscando a cotação de uma Ação"
   ]
  },
  {
   "cell_type": "code",
   "execution_count": 24,
   "id": "c0e6b38c",
   "metadata": {},
   "outputs": [
    {
     "name": "stdout",
     "output_type": "stream",
     "text": [
      "Digite o ticker da ação desejada: TAEE11.SA\n"
     ]
    }
   ],
   "source": [
    "ticker = input(\"Digite o ticker da ação desejada: \")\n",
    "dados = yfinance.Ticker(ticker)"
   ]
  },
  {
   "cell_type": "code",
   "execution_count": 25,
   "id": "01fb9361",
   "metadata": {},
   "outputs": [
    {
     "data": {
      "text/html": [
       "<div>\n",
       "<style scoped>\n",
       "    .dataframe tbody tr th:only-of-type {\n",
       "        vertical-align: middle;\n",
       "    }\n",
       "\n",
       "    .dataframe tbody tr th {\n",
       "        vertical-align: top;\n",
       "    }\n",
       "\n",
       "    .dataframe thead th {\n",
       "        text-align: right;\n",
       "    }\n",
       "</style>\n",
       "<table border=\"1\" class=\"dataframe\">\n",
       "  <thead>\n",
       "    <tr style=\"text-align: right;\">\n",
       "      <th></th>\n",
       "      <th>Open</th>\n",
       "      <th>High</th>\n",
       "      <th>Low</th>\n",
       "      <th>Close</th>\n",
       "      <th>Volume</th>\n",
       "      <th>Dividends</th>\n",
       "      <th>Stock Splits</th>\n",
       "    </tr>\n",
       "    <tr>\n",
       "      <th>Date</th>\n",
       "      <th></th>\n",
       "      <th></th>\n",
       "      <th></th>\n",
       "      <th></th>\n",
       "      <th></th>\n",
       "      <th></th>\n",
       "      <th></th>\n",
       "    </tr>\n",
       "  </thead>\n",
       "  <tbody>\n",
       "    <tr>\n",
       "      <th>2023-02-09 00:00:00-03:00</th>\n",
       "      <td>36.049999</td>\n",
       "      <td>36.200001</td>\n",
       "      <td>35.410000</td>\n",
       "      <td>35.580002</td>\n",
       "      <td>1387300</td>\n",
       "      <td>0.0</td>\n",
       "      <td>0.0</td>\n",
       "    </tr>\n",
       "    <tr>\n",
       "      <th>2023-02-10 00:00:00-03:00</th>\n",
       "      <td>35.419998</td>\n",
       "      <td>36.130001</td>\n",
       "      <td>35.410000</td>\n",
       "      <td>36.099998</td>\n",
       "      <td>1457500</td>\n",
       "      <td>0.0</td>\n",
       "      <td>0.0</td>\n",
       "    </tr>\n",
       "    <tr>\n",
       "      <th>2023-02-13 00:00:00-03:00</th>\n",
       "      <td>36.000000</td>\n",
       "      <td>36.540001</td>\n",
       "      <td>35.910000</td>\n",
       "      <td>36.299999</td>\n",
       "      <td>1333400</td>\n",
       "      <td>0.0</td>\n",
       "      <td>0.0</td>\n",
       "    </tr>\n",
       "    <tr>\n",
       "      <th>2023-02-14 00:00:00-03:00</th>\n",
       "      <td>36.330002</td>\n",
       "      <td>36.430000</td>\n",
       "      <td>35.730000</td>\n",
       "      <td>35.779999</td>\n",
       "      <td>1403500</td>\n",
       "      <td>0.0</td>\n",
       "      <td>0.0</td>\n",
       "    </tr>\n",
       "    <tr>\n",
       "      <th>2023-02-15 00:00:00-03:00</th>\n",
       "      <td>35.980000</td>\n",
       "      <td>36.139999</td>\n",
       "      <td>35.730000</td>\n",
       "      <td>35.919998</td>\n",
       "      <td>1486300</td>\n",
       "      <td>0.0</td>\n",
       "      <td>0.0</td>\n",
       "    </tr>\n",
       "    <tr>\n",
       "      <th>2023-02-16 00:00:00-03:00</th>\n",
       "      <td>35.849998</td>\n",
       "      <td>35.990002</td>\n",
       "      <td>35.630001</td>\n",
       "      <td>35.840000</td>\n",
       "      <td>1699300</td>\n",
       "      <td>0.0</td>\n",
       "      <td>0.0</td>\n",
       "    </tr>\n",
       "    <tr>\n",
       "      <th>2023-02-17 00:00:00-03:00</th>\n",
       "      <td>35.900002</td>\n",
       "      <td>36.330002</td>\n",
       "      <td>35.900002</td>\n",
       "      <td>36.060001</td>\n",
       "      <td>1340600</td>\n",
       "      <td>0.0</td>\n",
       "      <td>0.0</td>\n",
       "    </tr>\n",
       "    <tr>\n",
       "      <th>2023-02-22 00:00:00-03:00</th>\n",
       "      <td>35.990002</td>\n",
       "      <td>35.990002</td>\n",
       "      <td>35.470001</td>\n",
       "      <td>35.619999</td>\n",
       "      <td>1070600</td>\n",
       "      <td>0.0</td>\n",
       "      <td>0.0</td>\n",
       "    </tr>\n",
       "    <tr>\n",
       "      <th>2023-02-23 00:00:00-03:00</th>\n",
       "      <td>35.680000</td>\n",
       "      <td>35.959999</td>\n",
       "      <td>35.560001</td>\n",
       "      <td>35.709999</td>\n",
       "      <td>979100</td>\n",
       "      <td>0.0</td>\n",
       "      <td>0.0</td>\n",
       "    </tr>\n",
       "    <tr>\n",
       "      <th>2023-02-24 00:00:00-03:00</th>\n",
       "      <td>35.660000</td>\n",
       "      <td>35.840000</td>\n",
       "      <td>35.270000</td>\n",
       "      <td>35.450001</td>\n",
       "      <td>1382700</td>\n",
       "      <td>0.0</td>\n",
       "      <td>0.0</td>\n",
       "    </tr>\n",
       "    <tr>\n",
       "      <th>2023-02-27 00:00:00-03:00</th>\n",
       "      <td>35.410000</td>\n",
       "      <td>35.540001</td>\n",
       "      <td>35.220001</td>\n",
       "      <td>35.310001</td>\n",
       "      <td>1019400</td>\n",
       "      <td>0.0</td>\n",
       "      <td>0.0</td>\n",
       "    </tr>\n",
       "    <tr>\n",
       "      <th>2023-02-28 00:00:00-03:00</th>\n",
       "      <td>35.590000</td>\n",
       "      <td>35.820000</td>\n",
       "      <td>35.410000</td>\n",
       "      <td>35.560001</td>\n",
       "      <td>1245100</td>\n",
       "      <td>0.0</td>\n",
       "      <td>0.0</td>\n",
       "    </tr>\n",
       "    <tr>\n",
       "      <th>2023-03-01 00:00:00-03:00</th>\n",
       "      <td>35.599998</td>\n",
       "      <td>35.790001</td>\n",
       "      <td>35.480000</td>\n",
       "      <td>35.700001</td>\n",
       "      <td>1336200</td>\n",
       "      <td>0.0</td>\n",
       "      <td>0.0</td>\n",
       "    </tr>\n",
       "    <tr>\n",
       "      <th>2023-03-02 00:00:00-03:00</th>\n",
       "      <td>35.689999</td>\n",
       "      <td>36.279999</td>\n",
       "      <td>35.529999</td>\n",
       "      <td>35.660000</td>\n",
       "      <td>1465800</td>\n",
       "      <td>0.0</td>\n",
       "      <td>0.0</td>\n",
       "    </tr>\n",
       "    <tr>\n",
       "      <th>2023-03-03 00:00:00-03:00</th>\n",
       "      <td>35.599998</td>\n",
       "      <td>35.950001</td>\n",
       "      <td>35.360001</td>\n",
       "      <td>35.700001</td>\n",
       "      <td>1164900</td>\n",
       "      <td>0.0</td>\n",
       "      <td>0.0</td>\n",
       "    </tr>\n",
       "    <tr>\n",
       "      <th>2023-03-06 00:00:00-03:00</th>\n",
       "      <td>35.790001</td>\n",
       "      <td>36.020000</td>\n",
       "      <td>35.639999</td>\n",
       "      <td>35.930000</td>\n",
       "      <td>1147700</td>\n",
       "      <td>0.0</td>\n",
       "      <td>0.0</td>\n",
       "    </tr>\n",
       "    <tr>\n",
       "      <th>2023-03-07 00:00:00-03:00</th>\n",
       "      <td>35.939999</td>\n",
       "      <td>36.169998</td>\n",
       "      <td>35.709999</td>\n",
       "      <td>35.910000</td>\n",
       "      <td>1630700</td>\n",
       "      <td>0.0</td>\n",
       "      <td>0.0</td>\n",
       "    </tr>\n",
       "    <tr>\n",
       "      <th>2023-03-08 00:00:00-03:00</th>\n",
       "      <td>35.950001</td>\n",
       "      <td>36.209999</td>\n",
       "      <td>35.869999</td>\n",
       "      <td>36.200001</td>\n",
       "      <td>1034200</td>\n",
       "      <td>0.0</td>\n",
       "      <td>0.0</td>\n",
       "    </tr>\n",
       "    <tr>\n",
       "      <th>2023-03-09 00:00:00-03:00</th>\n",
       "      <td>36.139999</td>\n",
       "      <td>36.430000</td>\n",
       "      <td>35.860001</td>\n",
       "      <td>36.040001</td>\n",
       "      <td>757700</td>\n",
       "      <td>0.0</td>\n",
       "      <td>0.0</td>\n",
       "    </tr>\n",
       "  </tbody>\n",
       "</table>\n",
       "</div>"
      ],
      "text/plain": [
       "                                Open       High        Low      Close  \\\n",
       "Date                                                                    \n",
       "2023-02-09 00:00:00-03:00  36.049999  36.200001  35.410000  35.580002   \n",
       "2023-02-10 00:00:00-03:00  35.419998  36.130001  35.410000  36.099998   \n",
       "2023-02-13 00:00:00-03:00  36.000000  36.540001  35.910000  36.299999   \n",
       "2023-02-14 00:00:00-03:00  36.330002  36.430000  35.730000  35.779999   \n",
       "2023-02-15 00:00:00-03:00  35.980000  36.139999  35.730000  35.919998   \n",
       "2023-02-16 00:00:00-03:00  35.849998  35.990002  35.630001  35.840000   \n",
       "2023-02-17 00:00:00-03:00  35.900002  36.330002  35.900002  36.060001   \n",
       "2023-02-22 00:00:00-03:00  35.990002  35.990002  35.470001  35.619999   \n",
       "2023-02-23 00:00:00-03:00  35.680000  35.959999  35.560001  35.709999   \n",
       "2023-02-24 00:00:00-03:00  35.660000  35.840000  35.270000  35.450001   \n",
       "2023-02-27 00:00:00-03:00  35.410000  35.540001  35.220001  35.310001   \n",
       "2023-02-28 00:00:00-03:00  35.590000  35.820000  35.410000  35.560001   \n",
       "2023-03-01 00:00:00-03:00  35.599998  35.790001  35.480000  35.700001   \n",
       "2023-03-02 00:00:00-03:00  35.689999  36.279999  35.529999  35.660000   \n",
       "2023-03-03 00:00:00-03:00  35.599998  35.950001  35.360001  35.700001   \n",
       "2023-03-06 00:00:00-03:00  35.790001  36.020000  35.639999  35.930000   \n",
       "2023-03-07 00:00:00-03:00  35.939999  36.169998  35.709999  35.910000   \n",
       "2023-03-08 00:00:00-03:00  35.950001  36.209999  35.869999  36.200001   \n",
       "2023-03-09 00:00:00-03:00  36.139999  36.430000  35.860001  36.040001   \n",
       "\n",
       "                            Volume  Dividends  Stock Splits  \n",
       "Date                                                         \n",
       "2023-02-09 00:00:00-03:00  1387300        0.0           0.0  \n",
       "2023-02-10 00:00:00-03:00  1457500        0.0           0.0  \n",
       "2023-02-13 00:00:00-03:00  1333400        0.0           0.0  \n",
       "2023-02-14 00:00:00-03:00  1403500        0.0           0.0  \n",
       "2023-02-15 00:00:00-03:00  1486300        0.0           0.0  \n",
       "2023-02-16 00:00:00-03:00  1699300        0.0           0.0  \n",
       "2023-02-17 00:00:00-03:00  1340600        0.0           0.0  \n",
       "2023-02-22 00:00:00-03:00  1070600        0.0           0.0  \n",
       "2023-02-23 00:00:00-03:00   979100        0.0           0.0  \n",
       "2023-02-24 00:00:00-03:00  1382700        0.0           0.0  \n",
       "2023-02-27 00:00:00-03:00  1019400        0.0           0.0  \n",
       "2023-02-28 00:00:00-03:00  1245100        0.0           0.0  \n",
       "2023-03-01 00:00:00-03:00  1336200        0.0           0.0  \n",
       "2023-03-02 00:00:00-03:00  1465800        0.0           0.0  \n",
       "2023-03-03 00:00:00-03:00  1164900        0.0           0.0  \n",
       "2023-03-06 00:00:00-03:00  1147700        0.0           0.0  \n",
       "2023-03-07 00:00:00-03:00  1630700        0.0           0.0  \n",
       "2023-03-08 00:00:00-03:00  1034200        0.0           0.0  \n",
       "2023-03-09 00:00:00-03:00   757700        0.0           0.0  "
      ]
     },
     "execution_count": 25,
     "metadata": {},
     "output_type": "execute_result"
    }
   ],
   "source": [
    "dados.history()"
   ]
  },
  {
   "cell_type": "code",
   "execution_count": 26,
   "id": "7a4ee2d5",
   "metadata": {},
   "outputs": [
    {
     "data": {
      "text/html": [
       "<div>\n",
       "<style scoped>\n",
       "    .dataframe tbody tr th:only-of-type {\n",
       "        vertical-align: middle;\n",
       "    }\n",
       "\n",
       "    .dataframe tbody tr th {\n",
       "        vertical-align: top;\n",
       "    }\n",
       "\n",
       "    .dataframe thead th {\n",
       "        text-align: right;\n",
       "    }\n",
       "</style>\n",
       "<table border=\"1\" class=\"dataframe\">\n",
       "  <thead>\n",
       "    <tr style=\"text-align: right;\">\n",
       "      <th></th>\n",
       "      <th>Open</th>\n",
       "      <th>High</th>\n",
       "      <th>Low</th>\n",
       "      <th>Close</th>\n",
       "      <th>Volume</th>\n",
       "      <th>Dividends</th>\n",
       "      <th>Stock Splits</th>\n",
       "    </tr>\n",
       "    <tr>\n",
       "      <th>Date</th>\n",
       "      <th></th>\n",
       "      <th></th>\n",
       "      <th></th>\n",
       "      <th></th>\n",
       "      <th></th>\n",
       "      <th></th>\n",
       "      <th></th>\n",
       "    </tr>\n",
       "  </thead>\n",
       "  <tbody>\n",
       "    <tr>\n",
       "      <th>2022-09-09 00:00:00-03:00</th>\n",
       "      <td>40.147859</td>\n",
       "      <td>40.176645</td>\n",
       "      <td>39.639295</td>\n",
       "      <td>39.821609</td>\n",
       "      <td>1021300</td>\n",
       "      <td>0.0</td>\n",
       "      <td>0.0</td>\n",
       "    </tr>\n",
       "    <tr>\n",
       "      <th>2022-09-12 00:00:00-03:00</th>\n",
       "      <td>39.821609</td>\n",
       "      <td>40.061499</td>\n",
       "      <td>39.677674</td>\n",
       "      <td>39.812016</td>\n",
       "      <td>979100</td>\n",
       "      <td>0.0</td>\n",
       "      <td>0.0</td>\n",
       "    </tr>\n",
       "    <tr>\n",
       "      <th>2022-09-13 00:00:00-03:00</th>\n",
       "      <td>39.725657</td>\n",
       "      <td>39.879186</td>\n",
       "      <td>39.399407</td>\n",
       "      <td>39.485767</td>\n",
       "      <td>1441600</td>\n",
       "      <td>0.0</td>\n",
       "      <td>0.0</td>\n",
       "    </tr>\n",
       "    <tr>\n",
       "      <th>2022-09-14 00:00:00-03:00</th>\n",
       "      <td>39.485767</td>\n",
       "      <td>39.572127</td>\n",
       "      <td>39.197897</td>\n",
       "      <td>39.418598</td>\n",
       "      <td>1324400</td>\n",
       "      <td>0.0</td>\n",
       "      <td>0.0</td>\n",
       "    </tr>\n",
       "    <tr>\n",
       "      <th>2022-09-15 00:00:00-03:00</th>\n",
       "      <td>39.408999</td>\n",
       "      <td>39.552934</td>\n",
       "      <td>39.082749</td>\n",
       "      <td>39.188301</td>\n",
       "      <td>1217200</td>\n",
       "      <td>0.0</td>\n",
       "      <td>0.0</td>\n",
       "    </tr>\n",
       "    <tr>\n",
       "      <th>...</th>\n",
       "      <td>...</td>\n",
       "      <td>...</td>\n",
       "      <td>...</td>\n",
       "      <td>...</td>\n",
       "      <td>...</td>\n",
       "      <td>...</td>\n",
       "      <td>...</td>\n",
       "    </tr>\n",
       "    <tr>\n",
       "      <th>2023-03-03 00:00:00-03:00</th>\n",
       "      <td>35.599998</td>\n",
       "      <td>35.950001</td>\n",
       "      <td>35.360001</td>\n",
       "      <td>35.700001</td>\n",
       "      <td>1164900</td>\n",
       "      <td>0.0</td>\n",
       "      <td>0.0</td>\n",
       "    </tr>\n",
       "    <tr>\n",
       "      <th>2023-03-06 00:00:00-03:00</th>\n",
       "      <td>35.790001</td>\n",
       "      <td>36.020000</td>\n",
       "      <td>35.639999</td>\n",
       "      <td>35.930000</td>\n",
       "      <td>1147700</td>\n",
       "      <td>0.0</td>\n",
       "      <td>0.0</td>\n",
       "    </tr>\n",
       "    <tr>\n",
       "      <th>2023-03-07 00:00:00-03:00</th>\n",
       "      <td>35.939999</td>\n",
       "      <td>36.169998</td>\n",
       "      <td>35.709999</td>\n",
       "      <td>35.910000</td>\n",
       "      <td>1630700</td>\n",
       "      <td>0.0</td>\n",
       "      <td>0.0</td>\n",
       "    </tr>\n",
       "    <tr>\n",
       "      <th>2023-03-08 00:00:00-03:00</th>\n",
       "      <td>35.950001</td>\n",
       "      <td>36.209999</td>\n",
       "      <td>35.869999</td>\n",
       "      <td>36.200001</td>\n",
       "      <td>1034200</td>\n",
       "      <td>0.0</td>\n",
       "      <td>0.0</td>\n",
       "    </tr>\n",
       "    <tr>\n",
       "      <th>2023-03-09 00:00:00-03:00</th>\n",
       "      <td>36.139999</td>\n",
       "      <td>36.430000</td>\n",
       "      <td>35.860001</td>\n",
       "      <td>36.040001</td>\n",
       "      <td>757700</td>\n",
       "      <td>0.0</td>\n",
       "      <td>0.0</td>\n",
       "    </tr>\n",
       "  </tbody>\n",
       "</table>\n",
       "<p>124 rows × 7 columns</p>\n",
       "</div>"
      ],
      "text/plain": [
       "                                Open       High        Low      Close  \\\n",
       "Date                                                                    \n",
       "2022-09-09 00:00:00-03:00  40.147859  40.176645  39.639295  39.821609   \n",
       "2022-09-12 00:00:00-03:00  39.821609  40.061499  39.677674  39.812016   \n",
       "2022-09-13 00:00:00-03:00  39.725657  39.879186  39.399407  39.485767   \n",
       "2022-09-14 00:00:00-03:00  39.485767  39.572127  39.197897  39.418598   \n",
       "2022-09-15 00:00:00-03:00  39.408999  39.552934  39.082749  39.188301   \n",
       "...                              ...        ...        ...        ...   \n",
       "2023-03-03 00:00:00-03:00  35.599998  35.950001  35.360001  35.700001   \n",
       "2023-03-06 00:00:00-03:00  35.790001  36.020000  35.639999  35.930000   \n",
       "2023-03-07 00:00:00-03:00  35.939999  36.169998  35.709999  35.910000   \n",
       "2023-03-08 00:00:00-03:00  35.950001  36.209999  35.869999  36.200001   \n",
       "2023-03-09 00:00:00-03:00  36.139999  36.430000  35.860001  36.040001   \n",
       "\n",
       "                            Volume  Dividends  Stock Splits  \n",
       "Date                                                         \n",
       "2022-09-09 00:00:00-03:00  1021300        0.0           0.0  \n",
       "2022-09-12 00:00:00-03:00   979100        0.0           0.0  \n",
       "2022-09-13 00:00:00-03:00  1441600        0.0           0.0  \n",
       "2022-09-14 00:00:00-03:00  1324400        0.0           0.0  \n",
       "2022-09-15 00:00:00-03:00  1217200        0.0           0.0  \n",
       "...                            ...        ...           ...  \n",
       "2023-03-03 00:00:00-03:00  1164900        0.0           0.0  \n",
       "2023-03-06 00:00:00-03:00  1147700        0.0           0.0  \n",
       "2023-03-07 00:00:00-03:00  1630700        0.0           0.0  \n",
       "2023-03-08 00:00:00-03:00  1034200        0.0           0.0  \n",
       "2023-03-09 00:00:00-03:00   757700        0.0           0.0  \n",
       "\n",
       "[124 rows x 7 columns]"
      ]
     },
     "execution_count": 26,
     "metadata": {},
     "output_type": "execute_result"
    }
   ],
   "source": [
    "tabela = dados.history(\"6mo\")\n",
    "tabela"
   ]
  },
  {
   "cell_type": "code",
   "execution_count": 27,
   "id": "b8fe9421",
   "metadata": {},
   "outputs": [
    {
     "data": {
      "text/plain": [
       "Date\n",
       "2022-09-09 00:00:00-03:00    39.821609\n",
       "2022-09-12 00:00:00-03:00    39.812016\n",
       "2022-09-13 00:00:00-03:00    39.485767\n",
       "2022-09-14 00:00:00-03:00    39.418598\n",
       "2022-09-15 00:00:00-03:00    39.188301\n",
       "                               ...    \n",
       "2023-03-03 00:00:00-03:00    35.700001\n",
       "2023-03-06 00:00:00-03:00    35.930000\n",
       "2023-03-07 00:00:00-03:00    35.910000\n",
       "2023-03-08 00:00:00-03:00    36.200001\n",
       "2023-03-09 00:00:00-03:00    36.040001\n",
       "Name: Close, Length: 124, dtype: float64"
      ]
     },
     "execution_count": 27,
     "metadata": {},
     "output_type": "execute_result"
    }
   ],
   "source": [
    "fechamento = tabela.Close\n",
    "fechamento"
   ]
  },
  {
   "cell_type": "markdown",
   "id": "e025ae22",
   "metadata": {},
   "source": [
    "# Gerando gráfico de linha "
   ]
  },
  {
   "cell_type": "code",
   "execution_count": 28,
   "id": "0d82451c",
   "metadata": {},
   "outputs": [
    {
     "data": {
      "text/plain": [
       "<AxesSubplot:xlabel='Date'>"
      ]
     },
     "execution_count": 28,
     "metadata": {},
     "output_type": "execute_result"
    },
    {
     "data": {
      "image/png": "[encoded data removed]",
      "text/plain": [
       "<Figure size 640x480 with 1 Axes>"
      ]
     },
     "metadata": {},
     "output_type": "display_data"
    }
   ],
   "source": [
    "fechamento.plot()"
   ]
  },
  {
   "cell_type": "markdown",
   "id": "7538ce0e",
   "metadata": {},
   "source": [
    "## Gerando estastística"
   ]
  },
  {
   "cell_type": "code",
   "execution_count": 29,
   "id": "3108df2b",
   "metadata": {},
   "outputs": [
    {
     "data": {
      "text/plain": [
       "40.13826370239258"
      ]
     },
     "execution_count": 29,
     "metadata": {},
     "output_type": "execute_result"
    }
   ],
   "source": [
    "cotacao_maxima = fechamento.max()\n",
    "cotacao_maxima"
   ]
  },
  {
   "cell_type": "code",
   "execution_count": 30,
   "id": "5064412a",
   "metadata": {},
   "outputs": [
    {
     "data": {
      "text/plain": [
       "31.86508560180664"
      ]
     },
     "execution_count": 30,
     "metadata": {},
     "output_type": "execute_result"
    }
   ],
   "source": [
    "cotacao_minima = fechamento.min()\n",
    "cotacao_minima"
   ]
  },
  {
   "cell_type": "code",
   "execution_count": 31,
   "id": "e984fefe",
   "metadata": {},
   "outputs": [
    {
     "data": {
      "text/plain": [
       "36.040000915527344"
      ]
     },
     "execution_count": 31,
     "metadata": {},
     "output_type": "execute_result"
    }
   ],
   "source": [
    "cotacao_atual = fechamento[-1]\n",
    "cotacao_atual"
   ]
  },
  {
   "cell_type": "markdown",
   "id": "5cffba58",
   "metadata": {},
   "source": [
    "# Importando Bibliotecas"
   ]
  },
  {
   "cell_type": "code",
   "execution_count": 48,
   "id": "613a7dc8",
   "metadata": {},
   "outputs": [],
   "source": [
    "import pyautogui as pt\n",
    "import pyperclip as pc\n",
    "import time"
   ]
  },
  {
   "cell_type": "code",
   "execution_count": 70,
   "id": "23b3281f",
   "metadata": {},
   "outputs": [],
   "source": [
    "destinatario = \"riiguh2@gmail.com\"\n",
    "assunto = \"Análise de ações\"\n",
    "\n",
    "mensagem = f\"\"\"\n",
    "Bom dia,\n",
    "\n",
    "Segue abaixo as analises da ação ({ticker}) dos ultimos 6 meses:\n",
    "\n",
    "Cotação Máxima: R${round(cotacao_maxima, 2)}.\n",
    "Cotação Mínima: R${round(cotacao_minima, 2)}.\n",
    "Cotação Atual:  R${round(cotacao_atual,2)}.\n",
    "\n",
    "Atenciosamente,\n",
    "Igor.\n",
    "\n",
    "\"\"\""
   ]
  },
  {
   "cell_type": "code",
   "execution_count": 71,
   "id": "70eb61bc",
   "metadata": {},
   "outputs": [
    {
     "name": "stdout",
     "output_type": "stream",
     "text": [
      "riiguh2@gmail.com\n",
      "Análise de ações\n",
      "\n",
      "Bom dia,\n",
      "\n",
      "Segue abaixo as analises da ação (TAEE11.SA) dos ultimos 6 meses:\n",
      "\n",
      "Cotação Máxima: R$40.14.\n",
      "Cotação Mínima: R$31.87.\n",
      "Cotação Atual:  R$36.04.\n",
      "\n",
      "Atenciosamente,\n",
      "Igor.\n",
      "\n",
      "\n"
     ]
    }
   ],
   "source": [
    "print(destinatario)\n",
    "print(assunto)\n",
    "print(mensagem)"
   ]
  },
  {
   "cell_type": "markdown",
   "id": "c776cc4f",
   "metadata": {},
   "source": [
    "# Automatizando o envio"
   ]
  },
  {
   "cell_type": "code",
   "execution_count": 74,
   "id": "848960aa",
   "metadata": {},
   "outputs": [],
   "source": [
    "# configurar uma pausa entre as ações do pyautogui\n",
    "pt.PAUSE = 5\n",
    "\n",
    "# comando para abrir uma nova pagina no navegador e clicar na barra de pesquisa\n",
    "pt.hotkey(\"ctrl\", \"t\")\n",
    "pt.click(x=643, y=52)\n",
    "\n",
    "# copia o endereço de e-mail para o clipboard\n",
    "pc.copy(\"gmail.com\")\n",
    "\n",
    "# cola o endereço do gmail e da ENTER\n",
    "pt.hotkey(\"ctrl\", \"v\")\n",
    "pt.hotkey(\"enter\")\n",
    "\n",
    "# para clicar no botão escrever\n",
    "pt.click(x=84, y=167)\n",
    "\n",
    "# preenchendo o destinatario\n",
    "pc.copy(destinatario)\n",
    "pt.hotkey(\"ctrl\", \"v\")\n",
    "pt.hotkey(\"tab\")\n",
    "\n",
    "# preenchendo assunto\n",
    "pc.copy(assunto)\n",
    "pt.hotkey(\"ctrl\", \"v\")\n",
    "pt.hotkey(\"tab\")\n",
    "\n",
    "# preenchendo mensagem e enviando\n",
    "pc.copy(mensagem)\n",
    "pt.hotkey(\"ctrl\", \"v\")\n",
    "pt.hotkey(\"ctrl\", \"enter\")\n",
    "\n",
    "# fechar a aba gmail\n",
    "pt.hotkey(\"crtl\", \"f4\")\n",
    "\n",
    "\n",
    "\n",
    "\n"
   ]
  },
  {
   "cell_type": "markdown",
   "id": "d3d36ddb",
   "metadata": {},
   "source": [
    "# Código para descobrir as cordenadas do cursor"
   ]
  },
  {
   "cell_type": "code",
   "execution_count": 53,
   "id": "7236692f",
   "metadata": {},
   "outputs": [
    {
     "data": {
      "text/plain": [
       "Point(x=84, y=167)"
      ]
     },
     "execution_count": 53,
     "metadata": {},
     "output_type": "execute_result"
    }
   ],
   "source": [
    "time.sleep(3)\n",
    "pt.position()\n"
   ]
  },
  {
   "cell_type": "code",
   "execution_count": null,
   "id": "d7d0c28d",
   "metadata": {},
   "outputs": [],
   "source": []
  },
  {
   "cell_type": "code",
   "execution_count": null,
   "id": "b49a4ced",
   "metadata": {},
   "outputs": [],
   "source": []
  },
  {
   "cell_type": "code",
   "execution_count": null,
   "id": "646eb6c3",
   "metadata": {},
   "outputs": [],
   "source": []
  },
  {
   "cell_type": "code",
   "execution_count": null,
   "id": "5a3777de",
   "metadata": {},
   "outputs": [],
   "source": []
  },
  {
   "cell_type": "code",
   "execution_count": null,
   "id": "9bdbe2af",
   "metadata": {},
   "outputs": [],
   "source": []
  },
  {
   "cell_type": "code",
   "execution_count": null,
   "id": "7fcb2400",
   "metadata": {},
   "outputs": [],
   "source": []
  },
  {
   "cell_type": "code",
   "execution_count": null,
   "id": "326750f3",
   "metadata": {},
   "outputs": [],
   "source": []
  },
  {
   "cell_type": "code",
   "execution_count": null,
   "id": "042fc300",
   "metadata": {},
   "outputs": [],
   "source": []
  }
 ],
 "metadata": {
  "kernelspec": {
   "display_name": "Python 3 (ipykernel)",
   "language": "python",
   "name": "python3"
  },
  "language_info": {
   "codemirror_mode": {
    "name": "ipython",
    "version": 3
   },
   "file_extension": ".py",
   "mimetype": "text/x-python",
   "name": "python",
   "nbconvert_exporter": "python",
   "pygments_lexer": "ipython3",
   "version": "3.9.13"
  }
 },
 "nbformat": 4,
 "nbformat_minor": 5
}
