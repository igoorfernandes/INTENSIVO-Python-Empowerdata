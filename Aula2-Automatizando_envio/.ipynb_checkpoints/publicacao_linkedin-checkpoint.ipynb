{
 "cells": [
  {
   "cell_type": "markdown",
   "id": "fd23c71d-c67e-45a3-a93b-5fe74f97c0cd",
   "metadata": {},
   "source": [
    "# Importando as Bibliotecas"
   ]
  },
  {
   "cell_type": "code",
   "execution_count": 1,
   "id": "1cb90e39-d60f-41fc-bb24-cbc670ad7e11",
   "metadata": {
    "tags": []
   },
   "outputs": [],
   "source": [
    "import pyautogui as pt\n",
    "import pyperclip as pc\n",
    "import time\n"
   ]
  },
  {
   "cell_type": "markdown",
   "id": "2fcb59a7-c84f-4b32-b320-83eac648690d",
   "metadata": {},
   "source": [
    "# Cordenadas do Cursor"
   ]
  },
  {
   "cell_type": "code",
   "execution_count": 37,
   "id": "5a1fa31a-1e33-4695-abb8-0bc8f3801d8e",
   "metadata": {
    "tags": []
   },
   "outputs": [
    {
     "data": {
      "text/plain": [
       "Point(x=1109, y=701)"
      ]
     },
     "execution_count": 37,
     "metadata": {},
     "output_type": "execute_result"
    }
   ],
   "source": [
    "time.sleep(3)\n",
    "pt.position()"
   ]
  },
  {
   "cell_type": "markdown",
   "id": "eaba9f5e-7dad-4727-8a7a-c33f128e68f1",
   "metadata": {},
   "source": [
    "# Texto da Publicação"
   ]
  },
  {
   "cell_type": "code",
   "execution_count": 3,
   "id": "1b882197-a6e8-4411-a8e3-6f55d5c2ab46",
   "metadata": {
    "tags": []
   },
   "outputs": [],
   "source": [
    "publicacao = \"\"\" \n",
    "Este código é um exemplo de como é possível automatizar tarefas repetitivas que envolvem o uso do mouse e teclado. No exemplo dado, a automação publica uma mensagem no LinkedIn e abre uma nova guia no navegador, copiando e colando um link do YouTube.\n",
    "\n",
    "Passo a passo do que o código faz:\n",
    "\n",
    "1- Importar as bibliotecas pyautogui, pyperclip e time.\n",
    "2- Esperar 3 segundos (com time.sleep(3)) antes de executar as próximas instruções.\n",
    "3- Obter a posição atual do cursor na tela (com pt.position()).\n",
    "4- Definir um texto para ser usado na publicação (com a variável \"publicacao\").\n",
    "5- Definir um tempo de pausa entre as ações (com pt.PAUSE = 3).\n",
    "6- Abrir o navegador clicando em uma determinada posição na tela (com pt.click(x=936, y=1047)).\n",
    "7- Copiar o link do site (com pc.copy()) e colá-lo no navegador (com pt.hotkey()).\n",
    "8- Abrir uma nova página no navegador, copiar o link do YouTube e colá-lo na nova guia.\n",
    "9- Ativar o modo de multi-tarefa com a tecla \"Win + Right\".\n",
    "10- Criar uma nova publicação no LinkedIn clicando em uma determinada posição na tela.\n",
    "11- Colar o texto da publicação (com pc.copy() e pt.hotkey()).\n",
    "12- Clicar em diversas posições na tela para selecionar o caminho do vídeo e confirmar a publicação.\n",
    "13- Finalmente, clicar em uma posição específica na tela para confirmar a publicação.\n",
    "\n",
    "\n",
    "#python #dados #empowerdata #jupyter #anaconda\n",
    "\"\"\""
   ]
  },
  {
   "cell_type": "markdown",
   "id": "c7a915ef-5b20-4b5e-ace3-4fd02d268378",
   "metadata": {},
   "source": [
    "# Automatizando"
   ]
  },
  {
   "cell_type": "markdown",
   "id": "3295e2dc",
   "metadata": {
    "tags": []
   },
   "source": [
    "\n",
    "\n",
    "\n",
    "\n"
   ]
  },
  {
   "cell_type": "code",
   "execution_count": 39,
   "id": "f394186c-01c9-4d23-a7f4-738c142dbeec",
   "metadata": {},
   "outputs": [],
   "source": [
    "pt.PAUSE = 4\n",
    "\n",
    "# abrindo navegador\n",
    "pt.click(x=825, y=1055)\n",
    "\n",
    "# acessando linkedin\n",
    "pt.write(\"linkedin\")\n",
    "pt.press(\"enter\")\n",
    "time.sleep(2)\n",
    "\n",
    "# criando publicação\n",
    "pt.click(x=945, y=154)\n",
    "pc.copy(publicacao)\n",
    "pt.hotkey(\"ctrl\", \"v\")\n",
    "\n",
    "# confirmando publicação\n",
    "pt.click(x=1168, y=714, clicks=5)\n",
    "pt.click(x=1109, y=701)\n"
   ]
  },
  {
   "cell_type": "code",
   "execution_count": null,
   "id": "dde90eb4",
   "metadata": {},
   "outputs": [],
   "source": []
  }
 ],
 "metadata": {
  "kernelspec": {
   "display_name": "Python 3 (ipykernel)",
   "language": "python",
   "name": "python3"
  },
  "language_info": {
   "codemirror_mode": {
    "name": "ipython",
    "version": 3
   },
   "file_extension": ".py",
   "mimetype": "text/x-python",
   "name": "python",
   "nbconvert_exporter": "python",
   "pygments_lexer": "ipython3",
   "version": "3.9.13"
  }
 },
 "nbformat": 4,
 "nbformat_minor": 5
}
